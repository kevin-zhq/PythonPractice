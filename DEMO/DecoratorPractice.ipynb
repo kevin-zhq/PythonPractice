{
 "cells": [
  {
   "cell_type": "markdown",
   "metadata": {},
   "source": [
    "装饰器运用练习"
   ]
  },
  {
   "cell_type": "code",
   "execution_count": 1,
   "metadata": {},
   "outputs": [
    {
     "name": "stdout",
     "output_type": "stream",
     "text": [
      "看这个 start hello\n",
      "hello 张鹏\n",
      "end hello\n"
     ]
    },
    {
     "data": {
      "text/plain": [
       "(None, None)"
      ]
     },
     "execution_count": 1,
     "metadata": {},
     "output_type": "execute_result"
    }
   ],
   "source": [
    "import functools\n",
    "\n",
    "def log(*text):\n",
    "    def decorator(func):\n",
    "        @functools.wraps(func)   #将函数名重置为原函数名\n",
    "        def wrapps(*args,**kw):\n",
    "            print('%s start %s'% (*text,func.__name__))\n",
    "            return func(*args,**kw),print('end %s' % func.__name__)\n",
    "        return wrapps\n",
    "    return decorator\n",
    "\n",
    "@log('看这个')\n",
    "def hello(name):\n",
    "    print('hello %s'% name)\n",
    "#运行测试\n",
    "hello('张鹏')"
   ]
  },
  {
   "cell_type": "code",
   "execution_count": null,
   "metadata": {},
   "outputs": [],
   "source": []
  }
 ],
 "metadata": {
  "kernelspec": {
   "display_name": "Python 3",
   "language": "python",
   "name": "python3"
  },
  "language_info": {
   "codemirror_mode": {
    "name": "ipython",
    "version": 3
   },
   "file_extension": ".py",
   "mimetype": "text/x-python",
   "name": "python",
   "nbconvert_exporter": "python",
   "pygments_lexer": "ipython3",
   "version": "3.7.4"
  },
  "toc": {
   "base_numbering": 1,
   "nav_menu": {},
   "number_sections": true,
   "sideBar": true,
   "skip_h1_title": false,
   "title_cell": "Table of Contents",
   "title_sidebar": "Contents",
   "toc_cell": false,
   "toc_position": {},
   "toc_section_display": true,
   "toc_window_display": false
  }
 },
 "nbformat": 4,
 "nbformat_minor": 2
}
